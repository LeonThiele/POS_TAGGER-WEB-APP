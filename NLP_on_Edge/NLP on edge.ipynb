{
 "cells": [
  {
   "cell_type": "code",
   "execution_count": 1,
   "metadata": {},
   "outputs": [
    {
     "name": "stderr",
     "output_type": "stream",
     "text": [
      "Using TensorFlow backend.\n"
     ]
    }
   ],
   "source": [
    "import nltk\n",
    "import keras\n",
    "import numpy as np\n",
    "import sklearn\n",
    "\n",
    "from sklearn.feature_extraction import DictVectorizer\n",
    "from sklearn.preprocessing import LabelEncoder\n",
    "\n",
    "from keras import backend as K\n",
    "from keras import layers\n",
    "from keras import models\n",
    "from keras.models import load_model\n",
    "from keras.utils import np_utils\n",
    "from keras.models import Sequential\n",
    "from keras.layers import Dense, Dropout, Activation\n",
    "\n",
    "import tensorflow as tf\n"
   ]
  },
  {
   "cell_type": "code",
   "execution_count": 2,
   "metadata": {},
   "outputs": [],
   "source": [
    "def features(sentence, index):\n",
    "    \"\"\" sentence: [w1, w2, ...], index: the index of the word \"\"\"\n",
    "    words = sentence[index];\n",
    "    return {\n",
    "    'words': words,\n",
    "    'is_first': index == 0,\n",
    "    'is_last': index == len(sentence) - 1,\n",
    "    'is_capitalized': words[0].upper() == words[0],\n",
    "    'is_all_caps': words.upper() == words,\n",
    "    'is_all_lower': words.lower() == words,\n",
    "    'prefix-1': words[0],\n",
    "    'prefix-2': words[:2],\n",
    "    'prefix-3': words[:3],\n",
    "    'prefix-4': words[:4],\n",
    "    'suffix-1': words[-1],\n",
    "    'suffix-2': words[-2:],\n",
    "    'suffix-3': words[-3:],\n",
    "    'prev_word': '' if index == 0 else sentence[index - 1],\n",
    "    'next_word': '' if index == len(sentence) - 1 else sentence[index + 1],\n",
    "    'is_numeric': words.isdigit(),\n",
    "\n",
    "}"
   ]
  },
  {
   "cell_type": "code",
   "execution_count": 3,
   "metadata": {},
   "outputs": [],
   "source": [
    "tagged_sentences = nltk.corpus.treebank.tagged_sents()\n",
    "\n",
    "train, test = sklearn.model_selection.train_test_split(tagged_sentences, test_size=0.3, random_state=1);\n",
    "\n",
    "\n"
   ]
  },
  {
   "cell_type": "code",
   "execution_count": 4,
   "metadata": {},
   "outputs": [],
   "source": [
    "def untag(tagged_sentence):\n",
    "    return[w for w, t in tagged_sentence];\n",
    "def transform(sentence):\n",
    "    \n",
    "    X, y = [],[];\n",
    "    for x in sentence[:1000]:\n",
    "\n",
    "        for i in range(len(x)):\n",
    "            \n",
    "            X.append(features(untag(x),i));\n",
    "            y.append(x[i][1]);\n",
    "\n",
    "\n",
    "    return X, y;"
   ]
  },
  {
   "cell_type": "code",
   "execution_count": 5,
   "metadata": {},
   "outputs": [],
   "source": [
    "X_train, y_train = transform(train);\n",
    "X_test, y_test = transform(test);\n",
    "\n",
    "vectorizer = DictVectorizer(sparse=False);\n",
    "vectorizer.fit(X_train + X_test);\n",
    "\n",
    "\n",
    "\n",
    "X_test = vectorizer.transform(X_test)\n",
    "X_train = vectorizer.transform(X_train)\n",
    "\n",
    "\n",
    "\n",
    "encoder = LabelEncoder();\n",
    "encoder.fit(y_train + y_test);\n",
    "\n",
    "y_train = encoder.transform(y_train);\n",
    "y_test = encoder.transform(y_test);\n",
    "\n",
    "\n",
    "y_train =np_utils.to_categorical(y_train);\n",
    "y_test = np_utils.to_categorical(y_test);\n"
   ]
  },
  {
   "cell_type": "code",
   "execution_count": 6,
   "metadata": {},
   "outputs": [
    {
     "name": "stdout",
     "output_type": "stream",
     "text": [
      "Train on 22869 samples, validate on 2541 samples\n",
      "Epoch 1/5\n",
      "22869/22869 [==============================] - 133s 6ms/step - loss: 0.9029 - acc: 0.7536 - val_loss: 0.2497 - val_acc: 0.9209\n",
      "Epoch 2/5\n",
      "22869/22869 [==============================] - 123s 5ms/step - loss: 0.1903 - acc: 0.9441 - val_loss: 0.1938 - val_acc: 0.9362\n",
      "Epoch 3/5\n",
      "22869/22869 [==============================] - 121s 5ms/step - loss: 0.0969 - acc: 0.9728 - val_loss: 0.1944 - val_acc: 0.9441\n",
      "Epoch 4/5\n",
      "22869/22869 [==============================] - 123s 5ms/step - loss: 0.0647 - acc: 0.9805 - val_loss: 0.2046 - val_acc: 0.9433\n",
      "Epoch 5/5\n",
      "22869/22869 [==============================] - 122s 5ms/step - loss: 0.0475 - acc: 0.9852 - val_loss: 0.2024 - val_acc: 0.9481\n"
     ]
    },
    {
     "data": {
      "text/plain": [
       "<keras.callbacks.History at 0x2b8cdaccf98>"
      ]
     },
     "execution_count": 6,
     "metadata": {},
     "output_type": "execute_result"
    }
   ],
   "source": [
    "def model(input_dim, hidden_neurons, output_dim):\n",
    "    model = models.Sequential([\n",
    "        Dense(hidden_neurons, input_dim=input_dim, activation='relu'),\n",
    "        Dropout(0.3),\n",
    "        Dense(hidden_neurons, activation='relu'),\n",
    "        Dropout(0.3),\n",
    "        Dense(output_dim, activation='sigmoid')\n",
    "    ])\n",
    "    model.compile(loss='categorical_crossentropy', optimizer='adam', metrics=['accuracy'])\n",
    "    return model\n",
    "\n",
    "mod = model(X_train.shape[1], 128, y_train.shape[1])\n",
    "\n",
    "\n",
    "mod.fit(X_train, y_train, epochs=5, validation_split =0.1, batch_size = 32)\n"
   ]
  },
  {
   "cell_type": "code",
   "execution_count": 7,
   "metadata": {},
   "outputs": [],
   "source": [
    "#mod.save('NLP_model.h5')\n",
    "\n",
    "m = load_model('NLP_model.h5')"
   ]
  },
  {
   "cell_type": "code",
   "execution_count": 8,
   "metadata": {},
   "outputs": [
    {
     "name": "stdout",
     "output_type": "stream",
     "text": [
      "25675/25675 [==============================] - 67s 3ms/step\n",
      "The score is: %f 0.9400584225877466\n"
     ]
    }
   ],
   "source": [
    "\n",
    "score = m.evaluate(X_test, y_test)\n",
    "print(\"The score is: %f\",score[1])"
   ]
  },
  {
   "cell_type": "code",
   "execution_count": 9,
   "metadata": {},
   "outputs": [],
   "source": [
    "def translate(sent):\n",
    "    l =[]\n",
    "    index = 0\n",
    "    for i in sent:\n",
    "        l.append(features(sent,index))\n",
    "        index += 1\n",
    "\n",
    "    v = vectorizer.transform(l)\n",
    "    print(v.shape)\n",
    "\n",
    "    encoded_tags = m.predict_classes(v)\n",
    "\n",
    "    return encoder.inverse_transform(encoded_tags)\n",
    " \n",
    "\n"
   ]
  },
  {
   "cell_type": "code",
   "execution_count": 15,
   "metadata": {},
   "outputs": [
    {
     "name": "stdout",
     "output_type": "stream",
     "text": [
      "(5, 36528)\n"
     ]
    },
    {
     "data": {
      "text/plain": [
       "array(['PRP', 'VBP', 'JJ', 'TO', 'VB'], dtype='<U6')"
      ]
     },
     "execution_count": 15,
     "metadata": {},
     "output_type": "execute_result"
    }
   ],
   "source": [
    "translate([\"I\",\"am\", \"working\" ])\n"
   ]
  },
  {
   "cell_type": "code",
   "execution_count": null,
   "metadata": {},
   "outputs": [],
   "source": []
  },
  {
   "cell_type": "code",
   "execution_count": null,
   "metadata": {},
   "outputs": [],
   "source": []
  }
 ],
 "metadata": {
  "kernelspec": {
   "display_name": "Python 3",
   "language": "python",
   "name": "python3"
  },
  "language_info": {
   "codemirror_mode": {
    "name": "ipython",
    "version": 3
   },
   "file_extension": ".py",
   "mimetype": "text/x-python",
   "name": "python",
   "nbconvert_exporter": "python",
   "pygments_lexer": "ipython3",
   "version": "3.6.5"
  }
 },
 "nbformat": 4,
 "nbformat_minor": 2
}
